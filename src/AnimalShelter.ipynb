{
 "cells": [
  {
   "cell_type": "code",
   "execution_count": 1,
   "id": "09ae8b73",
   "metadata": {},
   "outputs": [
    {
     "name": "stdout",
     "output_type": "stream",
     "text": [
      "Animal Created! ID: 67437a652b24d9261fd035a4\n"
     ]
    }
   ],
   "source": [
    "from AnimalShelter import AnimalShelter\n",
    "\n",
    "shelter = AnimalShelter()\n",
    "\n",
    "# Create a new Animal\n",
    "new_animal = {\n",
    "    \"name\": \"Stormi\",\n",
    "    \"type\": \"Dog\",\n",
    "    \"age\": 4,\n",
    "    \"breed\": \"Husky\"\n",
    "}\n",
    "\n",
    "result_id = shelter.create(new_animal)\n",
    "print(f\"Animal Created! ID: {result_id}\")"
   ]
  },
  {
   "cell_type": "code",
   "execution_count": 3,
   "id": "c0ae3fa4",
   "metadata": {},
   "outputs": [
    {
     "name": "stdout",
     "output_type": "stream",
     "text": [
      "Dog: Stormi, Breed: Husky\n"
     ]
    }
   ],
   "source": [
    "# Read all animals\n",
    "all_animals = shelter.read()\n",
    "for animal in all_animals:\n",
    "    if animal['name'] == \"Stormi\":\n",
    "        print(f\"Dog: {animal['name']}, Breed: {animal['breed']}\")"
   ]
  },
  {
   "cell_type": "code",
   "execution_count": null,
   "id": "732313c3",
   "metadata": {},
   "outputs": [],
   "source": []
  }
 ],
 "metadata": {
  "kernelspec": {
   "display_name": "Python 3 (ipykernel)",
   "language": "python",
   "name": "python3"
  },
  "language_info": {
   "codemirror_mode": {
    "name": "ipython",
    "version": 3
   },
   "file_extension": ".py",
   "mimetype": "text/x-python",
   "name": "python",
   "nbconvert_exporter": "python",
   "pygments_lexer": "ipython3",
   "version": "3.9.12"
  }
 },
 "nbformat": 4,
 "nbformat_minor": 5
}
